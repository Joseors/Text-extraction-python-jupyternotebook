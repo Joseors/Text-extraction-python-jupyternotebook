{
 "cells": [
  {
   "cell_type": "code",
   "execution_count": 15,
   "id": "5fceedc9",
   "metadata": {
    "scrolled": false
   },
   "outputs": [
    {
     "ename": "SyntaxError",
     "evalue": "invalid syntax (2687021964.py, line 1)",
     "output_type": "error",
     "traceback": [
      "\u001b[1;36m  Cell \u001b[1;32mIn[15], line 1\u001b[1;36m\u001b[0m\n\u001b[1;33m    pip install PyPDF2\u001b[0m\n\u001b[1;37m        ^\u001b[0m\n\u001b[1;31mSyntaxError\u001b[0m\u001b[1;31m:\u001b[0m invalid syntax\n"
     ]
    }
   ],
   "source": [
    "pip install PyPDF2"
   ]
  },
  {
   "cell_type": "code",
   "execution_count": null,
   "id": "89bf8267",
   "metadata": {},
   "outputs": [],
   "source": [
    "pip install PyPDF2 pytesseract pdf2image Pillow"
   ]
  },
  {
   "cell_type": "code",
   "execution_count": 1,
   "id": "fe2d4bec",
   "metadata": {},
   "outputs": [
    {
     "ename": "IndentationError",
     "evalue": "expected an indented block after 'for' statement on line 12 (3303516346.py, line 15)",
     "output_type": "error",
     "traceback": [
      "\u001b[1;36m  Cell \u001b[1;32mIn[1], line 15\u001b[1;36m\u001b[0m\n\u001b[1;33m    for page in reader.pages:\u001b[0m\n\u001b[1;37m    ^\u001b[0m\n\u001b[1;31mIndentationError\u001b[0m\u001b[1;31m:\u001b[0m expected an indented block after 'for' statement on line 12\n"
     ]
    }
   ],
   "source": [
    "import os\n",
    "from PyPDF2 import PdfReader\n",
    "\n",
    "# Specify the file path (use absolute path if necessary)\n",
    "pdf_path = \"C:/Users/Jose/Downloads/Suryadi_2003_Perbandingan sikap dan intensi konsumen terhadap iklan metafora dan iklan non metafora_unlocked.pdf\"  # Update this path as needed\n",
    "\n",
    "# Check if the file exists\n",
    "if os.path.exists(pdf_path):\n",
    "    # Initialize the PDF reader\n",
    "    reader = PdfReader(pdf_path)\n",
    "    text_content = \"\"\n",
    "\n",
    "    # Extract text from all pages\n",
    "    for page in reader.pages:\n",
    "        text_content += page.extract_text() + \"\\n\"  # Add a newline between pages\n",
    "\n",
    "    # Generate output file name based on input file name\n",
    "    base_name = os.path.splitext(os.path.basename(pdf_path))[0]  # Get the base name without extension\n",
    "    output_path = os.path.join(os.path.dirname(pdf_path), f\"{base_name}.txt\")  # Create output path\n",
    "\n",
    "    # Save the extracted text to a .txt file\n",
    "    with open(output_path, \"w\", encoding=\"utf-8\") as f:\n",
    "\n",
    "    print(f\"Text extracted and saved to '{output_path}'\")\n",
    "else:\n",
    "    print(f\"File not found: {pdf_path}\")"
   ]
  },
  {
   "cell_type": "code",
   "execution_count": 2,
   "id": "95622b25",
   "metadata": {},
   "outputs": [
    {
     "name": "stdout",
     "output_type": "stream",
     "text": [
      "File not found: Dewayanti_2002_Pengaruh Kemudahan Pencarian Informasi Terhadap Sensitifitas Harga Pada Kegiatan Belanja Online.pdf\n"
     ]
    }
   ],
   "source": [
    "import os\n",
    "from PyPDF2 import PdfReader\n",
    "from pdf2image import convert_from_path\n",
    "import pytesseract\n",
    "\n",
    "# Specify the path to the PDF file in the Downloads folder\n",
    "pdf_path = \"Dewayanti_2002_Pengaruh Kemudahan Pencarian Informasi Terhadap Sensitifitas Harga Pada Kegiatan Belanja Online.pdf\"  # Update this path to the specific PDF file\n",
    "\n",
    "# Check if the file exists\n",
    "if os.path.isfile(pdf_path):  # Use isfile to ensure it's a file\n",
    "    text_content = \"\"\n",
    "\n",
    "    # Try to extract text using PyPDF2\n",
    "    try:\n",
    "        reader = PdfReader(pdf_path)\n",
    "\n",
    "        # Extract text from all pages\n",
    "        for page in reader.pages:\n",
    "            text = page.extract_text()\n",
    "            if text:  # If text is found, add it to the content\n",
    "                text_content += text + \"\\n\"\n",
    "    except Exception as e:\n",
    "        print(f\"Error extracting text with PyPDF2 from '{pdf_path}': {e}\")\n",
    "\n",
    "    # If no text was found, or to handle images, convert PDF pages to images\n",
    "    if not text_content.strip():  # Check if text_content is empty or only whitespace\n",
    "        print(f\"No text found in '{pdf_path}', attempting to extract text from images...\")\n",
    "        pages = convert_from_path(pdf_path, 600)  # Convert PDF to images\n",
    "\n",
    "        # Extract text from each image using OCR\n",
    "        for page in pages:\n",
    "            text = pytesseract.image_to_string(page)\n",
    "            text_content += text + \"\\n\"  # Add extracted text from image\n",
    "\n",
    "    # Generate output file name based on input file name\n",
    "    base_name = os.path.splitext(os.path.basename(pdf_path))[0]  # Get the base name without extension\n",
    "    output_path = os.path.join(os.path.dirname(pdf_path), f\"{base_name}.txt\")  # Create output path\n",
    "\n",
    "    # Save the extracted text to a .txt file\n",
    "    with open(output_path, \"w\", encoding=\"utf-8\") as f:\n",
    "        f.write(text_content)\n",
    "\n",
    "    print(f\"Text extracted from '{pdf_path}' and saved to '{output_path}'\")\n",
    "else:\n",
    "    print(f\"File not found: {pdf_path}\")"
   ]
  },
  {
   "cell_type": "code",
   "execution_count": 31,
   "id": "ef66faf6",
   "metadata": {
    "collapsed": true
   },
   "outputs": [
    {
     "name": "stdout",
     "output_type": "stream",
     "text": [
      "File not found: C:\\Users\\Jose\\Downloads\\Suryadi_2003_Perbandingan sikap dan intensi konsumen terhadap iklan metafora dan iklan non metafora_unlocked.txt\n"
     ]
    }
   ],
   "source": [
    "import os\n",
    "import platform\n",
    "\n",
    "# Function to get the Downloads folder path\n",
    "def get_downloads_folder():\n",
    "    if platform.system() == \"Windows\":\n",
    "        return os.path.join(os.path.expanduser(\"~\"), \"Downloads\")\n",
    "    elif platform.system() == \"Darwin\":  # macOS\n",
    "        return os.path.join(os.path.expanduser(\"~\"), \"Downloads\")\n",
    "    else:  # Assume Linux or other Unix-like OS\n",
    "        return os.path.join(os.path.expanduser(\"~\"), \"Downloads\")\n",
    "\n",
    "# Function to clean the text file\n",
    "def clean_text_file(input_file_name):\n",
    "    # Get the Downloads folder path\n",
    "    downloads_folder = get_downloads_folder()\n",
    "    \n",
    "    # Construct the full input file path\n",
    "    input_file_path = os.path.join(downloads_folder, input_file_name)\n",
    "    \n",
    "    # Create the output file path in the Downloads folder\n",
    "    output_file_path = os.path.join(downloads_folder, \"cleaned_text.txt\")\n",
    "\n",
    "    # Check if the input file exists\n",
    "    if not os.path.isfile(input_file_path):\n",
    "        print(f\"File not found: {input_file_path}\")\n",
    "        return\n",
    "\n",
    "    # Read the contents of the file\n",
    "    with open(input_file_path, 'r', encoding='utf-8') as file:\n",
    "        lines = file.readlines()\n",
    "\n",
    "    # Process the lines\n",
    "    cleaned_lines = []\n",
    "    for line in lines:\n",
    "        # Strip whitespace and check if the line is not empty\n",
    "        cleaned_line = line.strip()\n",
    "        if cleaned_line:  # Only keep non-empty lines\n",
    "            # Remove full stops\n",
    "            cleaned_line = cleaned_line.replace('.', '')\n",
    "            cleaned_lines.append(cleaned_line)\n",
    "\n",
    "    # Join the cleaned lines into a single string\n",
    "    cleaned_text = '\\n'.join(cleaned_lines)\n",
    "\n",
    "    # Write the cleaned text to the output file in Downloads\n",
    "    with open(output_file_path, 'w', encoding='utf-8') as output_file:\n",
    "        output_file.write(cleaned_text)\n",
    "\n",
    "    print(f\"Cleaned text saved to: {output_file_path}\")\n",
    "\n",
    "# Specify the input file name\n",
    "input_file_name = \"Suryadi_2003_Perbandingan sikap dan intensi konsumen terhadap iklan metafora dan iklan non metafora_unlocked.txt\"\n",
    "\n",
    "# Call the function to clean the text file\n",
    "clean_text_file(input_file_name)"
   ]
  },
  {
   "cell_type": "code",
   "execution_count": 4,
   "id": "bd145263",
   "metadata": {},
   "outputs": [
    {
     "name": "stdout",
     "output_type": "stream",
     "text": [
      "Cleaned text saved to 'C:/Users/Jose/Downloads/Research UI/Harry Susianto/unlocked/2011-2020\\2015_M~1.txt'\n"
     ]
    }
   ],
   "source": [
    "import os\n",
    "from PyPDF2 import PdfReader\n",
    "\n",
    "# Function to extract text from PDF and return it as a string\n",
    "def extract_text_from_pdf(pdf_path):\n",
    "    # Check if the file exists\n",
    "    if os.path.exists(pdf_path):\n",
    "        # Initialize the PDF reader\n",
    "        reader = PdfReader(pdf_path)\n",
    "        text_content = \"\"\n",
    "\n",
    "        # Extract text from all pages\n",
    "        for page in reader.pages:\n",
    "            text_content += page.extract_text() + \"\\n\"  # Add a newline between pages\n",
    "\n",
    "        return text_content\n",
    "    else:\n",
    "        print(f\"File not found: {pdf_path}\")\n",
    "        return None\n",
    "\n",
    "# Function to clean the text\n",
    "def clean_text(text_content):\n",
    "    # Split the text into lines and process them\n",
    "    cleaned_lines = []\n",
    "    for line in text_content.splitlines():\n",
    "        # Strip whitespace and check if the line is not empty\n",
    "        cleaned_line = line.strip()\n",
    "        if cleaned_line:  # Only keep non-empty lines\n",
    "            # Remove full stops\n",
    "            cleaned_line = cleaned_line.replace('.', '')\n",
    "            cleaned_lines.append(cleaned_line)\n",
    "\n",
    "    # Join the cleaned lines into a single string\n",
    "    cleaned_text = '\\n'.join(cleaned_lines)\n",
    "    return cleaned_text\n",
    "\n",
    "# Specify the PDF file path\n",
    "pdf_path = \"C:/Users/Jose/Downloads/Research UI/Harry Susianto/unlocked/2011-2020/2015_M~1.PDF\"  # Update this path as needed\n",
    "\n",
    "# Extract text from the PDF\n",
    "extracted_text = extract_text_from_pdf(pdf_path)\n",
    "\n",
    "# If extraction was successful, clean the text and save it\n",
    "if extracted_text:\n",
    "    cleaned_text = clean_text(extracted_text)\n",
    "\n",
    "    # Generate output file name based on input file name\n",
    "    base_name = os.path.splitext(os.path.basename(pdf_path))[0]  # Get the base name without extension\n",
    "    output_path = os.path.join(os.path.dirname(pdf_path), f\"{base_name}.txt\")  # Create output path\n",
    "\n",
    "    # Save the cleaned text to a .txt file\n",
    "    with open(output_path, \"w\", encoding=\"utf-8\") as f:\n",
    "        f.write(cleaned_text)\n",
    "\n",
    "    print(f\"Cleaned text saved to '{output_path}'\")"
   ]
  },
  {
   "cell_type": "code",
   "execution_count": null,
   "id": "52d8a35b",
   "metadata": {},
   "outputs": [],
   "source": []
  }
 ],
 "metadata": {
  "kernelspec": {
   "display_name": "Python 3 (ipykernel)",
   "language": "python",
   "name": "python3"
  },
  "language_info": {
   "codemirror_mode": {
    "name": "ipython",
    "version": 3
   },
   "file_extension": ".py",
   "mimetype": "text/x-python",
   "name": "python",
   "nbconvert_exporter": "python",
   "pygments_lexer": "ipython3",
   "version": "3.11.5"
  }
 },
 "nbformat": 4,
 "nbformat_minor": 5
}
